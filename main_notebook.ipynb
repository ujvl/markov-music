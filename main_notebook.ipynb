{
 "cells": [
  {
   "cell_type": "code",
   "execution_count": 1,
   "metadata": {
    "collapsed": false
   },
   "outputs": [],
   "source": [
    "from __future__ import division\n",
    "import scipy.constants as const\n",
    "import scipy\n",
    "from scipy.io import wavfile\n",
    "from IPython.core.display import HTML\n",
    "from IPython.display import display\n",
    "import numpy as np\n",
    "import matplotlib.pyplot as plt\n",
    "%matplotlib inline"
   ]
  },
  {
   "cell_type": "code",
   "execution_count": 5,
   "metadata": {
    "collapsed": false
   },
   "outputs": [],
   "source": [
    "rate = 44100 #44.1 khz\n",
    "key2freq = lambda n : 2 ** ((n-49)/12) * 440 # convert a piano key n to a frequency in Hz\n",
    "keytofrequency = {}\n",
    "for i in range(1,90):\n",
    "    keytofrequency[i] = key2freq(i)\n",
    "frequencytokey = {}\n",
    "for el in keytofrequency:\n",
    "    frequencytokey[keytofrequency[el]] = el\n"
   ]
  },
  {
   "cell_type": "code",
   "execution_count": null,
   "metadata": {
    "collapsed": true
   },
   "outputs": [],
   "source": [
    "# this is a wrapper that take a filename and publish an html <audio> tag to listen to it\n",
    "def wavPlayer(filepath):\n",
    "    src = \"\"\"\n",
    "    <head>\n",
    "    <meta http-equiv=\"Content-Type\" content=\"text/html; charset=utf-8\">\n",
    "    <title>Simple Test</title>\n",
    "    </head>\n",
    "    <body>\n",
    "    <audio controls=\"controls\" style=\"width:600px\" >\n",
    "      <source src=\"files/%s\" type=\"audio/wav\" />\n",
    "      Your browser does not support the audio element.\n",
    "    </audio>\n",
    "    </body>\n",
    "    \"\"\"%(filepath)\n",
    "    display(HTML(src))\n",
    "    \n",
    "def playMusic(title, rate, music):\n",
    "    # write the file on disk, and show in in a Html 5 audio player\n",
    "    music_wav = music * 2**13\n",
    "    wavfile.write(title + '.wav', rate, music_wav.astype(np.int16))\n",
    "    wavPlayer(title + '.wav')"
   ]
  },
  {
   "cell_type": "code",
   "execution_count": 25,
   "metadata": {
    "collapsed": false
   },
   "outputs": [],
   "source": [
    "def song_from_notes(notes):\n",
    "\n",
    "    note_duration = 0.5 # per key, in sec\n",
    "    music_duration = note_duration * len(notes)\n",
    "    time = np.linspace(0, music_duration, num=rate*music_duration) # indices for 0-16 secs spaced apart by 1/44100\n",
    "    song = np.zeros(len(time))\n",
    "\n",
    "    sinwave = lambda f,t : np.sin(2*np.pi*f*t) # generate a sinusoid of frequency f Hz over time t\n",
    "\n",
    "    idx_note = 0\n",
    "    for note in notes:\n",
    "        if note: # if note == 0, skip.\n",
    "            freq = key2freq(note) # frequency of each note\n",
    "            song[idx_note*rate*note_duration : (idx_note+1)*rate*note_duration-1] = \\\n",
    "                    sinwave(freq,\n",
    "                            time[idx_note*rate*note_duration : (idx_note+1)*rate*note_duration-1 ] \n",
    "                            ) #generates the sinusoids for the song, in .5 sec intervals\n",
    "        idx_note += 1\n",
    "        \n",
    "    return song"
   ]
  },
  {
   "cell_type": "code",
   "execution_count": null,
   "metadata": {
    "collapsed": true
   },
   "outputs": [],
   "source": [
    "def notes_from_wav(wav_file):\n",
    "        \n",
    "    notes = []\n",
    "    rate, track1_data = wavfile.read(\"/Users/Ujval/Documents/berkeley/ee126/proj/markovian-music/fur_elise.wav\") #import song\n",
    "    \n",
    "    return notes\n"
   ]
  },
  {
   "cell_type": "code",
   "execution_count": 119,
   "metadata": {
    "collapsed": false
   },
   "outputs": [
    {
     "name": "stdout",
     "output_type": "stream",
     "text": [
      "0.333333333333\n"
     ]
    }
   ],
   "source": [
    "def stochastic_matrix(notes, degree=1):\n",
    "    matrix = np.zeros((90,90))\n",
    "    for i in range(len(notes)):\n",
    "        curr_note = notes[i]\n",
    "        if i < len(notes)-1:\n",
    "            next_note = notes[i+1]\n",
    "        else:\n",
    "            next_note = None\n",
    "        if next_note:\n",
    "            matrix[curr_note][next_note] += 1\n",
    "    return normalize(matrix)\n",
    "\n",
    "def normalize(notes):\n",
    "    l = len(notes)\n",
    "    totals = notes.sum(axis=1)\n",
    "    new_matrix = np.array([])\n",
    "    for i in range(l):\n",
    "        if totals[i] == 0:\n",
    "            new_matrix = np.append(new_matrix, notes[i])\n",
    "            continue\n",
    "        new_row = [el/totals[i] for el in np.nditer(notes[i])]\n",
    "        new_matrix = np.append(new_matrix, new_row)\n",
    "    return new_matrix.reshape(l,l)\n",
    "    \n",
    "notes = [47, 47, 49, 49, 47, 47]\n",
    "test = stochastic_matrix(notes)\n"
   ]
  },
  {
   "cell_type": "code",
   "execution_count": 89,
   "metadata": {
    "collapsed": true
   },
   "outputs": [],
   "source": [
    "def random_walk(stoch_matrix):\n",
    "    "
   ]
  },
  {
   "cell_type": "code",
   "execution_count": 109,
   "metadata": {
    "collapsed": false
   },
   "outputs": [
    {
     "name": "stderr",
     "output_type": "stream",
     "text": [
      "/Library/Frameworks/Python.framework/Versions/3.4/lib/python3.4/site-packages/ipykernel/__main__.py:18: RuntimeWarning: invalid value encountered in true_divide\n"
     ]
    },
    {
     "ename": "NameError",
     "evalue": "name 'playMusic' is not defined",
     "output_type": "error",
     "traceback": [
      "\u001b[0;31m---------------------------------------------------------------------------\u001b[0m",
      "\u001b[0;31mNameError\u001b[0m                                 Traceback (most recent call last)",
      "\u001b[0;32m<ipython-input-109-b0d5a8b19ac3>\u001b[0m in \u001b[0;36m<module>\u001b[0;34m()\u001b[0m\n\u001b[1;32m     10\u001b[0m \u001b[0;34m\u001b[0m\u001b[0m\n\u001b[1;32m     11\u001b[0m \u001b[0;31m# play song for notes\u001b[0m\u001b[0;34m\u001b[0m\u001b[0;34m\u001b[0m\u001b[0m\n\u001b[0;32m---> 12\u001b[0;31m \u001b[0mplayMusic\u001b[0m\u001b[0;34m(\u001b[0m\u001b[0;34m\"test1\"\u001b[0m\u001b[0;34m,\u001b[0m \u001b[0mrate\u001b[0m\u001b[0;34m,\u001b[0m \u001b[0msong_from_notes\u001b[0m\u001b[0;34m(\u001b[0m\u001b[0mgenerated_song_notes\u001b[0m\u001b[0;34m)\u001b[0m\u001b[0;34m)\u001b[0m\u001b[0;34m\u001b[0m\u001b[0m\n\u001b[0m",
      "\u001b[0;31mNameError\u001b[0m: name 'playMusic' is not defined"
     ]
    }
   ],
   "source": [
    "# Get notes from wav\n",
    "notes = notes_from_wav(wavfile)\n",
    "notes = [47, 47, 49, 49, 47, 47, 44, 44, 47, 47, 44, 44, 42, 42, 42, 0, 47, 47, 49, 49, 47, 47, 44, 44, 47, 44, 42, 44, 40, 40, 40, 0]\n",
    "\n",
    "# Calculate stochastic matrix\n",
    "matrix = stochastic_matrix(notes)\n",
    "\n",
    "# Create a random walk of notes, starting from a particular note\n",
    "generated_song_notes = random_walk(matrix)\n",
    "\n",
    "# play song for notes\n",
    "playMusic(\"test1\", rate, song_from_notes(generated_song_notes))"
   ]
  },
  {
   "cell_type": "code",
   "execution_count": null,
   "metadata": {
    "collapsed": true
   },
   "outputs": [],
   "source": [
    "rate, track1_data = wavfile.read(\"/Users/Ujval/Documents/berkeley/ee126/proj/markovian-music/fur_elise.wav\") #import song\n",
    "\n",
    "flattened = (track1_data[:, 1] + track1_data[:,0])/2\n",
    "frequencies = abs(np.fft.fftfreq(flattened))\n",
    "\n",
    "t = np.linspace(0, (len(track1_data)-1)/rate, len(track1_data))\n",
    "plt.plot(t, flattened)\n",
    "plt.show()\n",
    "#playMusic('gymnopedie1_played', rate, data_song1)"
   ]
  }
 ],
 "metadata": {
  "kernelspec": {
   "display_name": "Python 3",
   "language": "python",
   "name": "python3"
  },
  "language_info": {
   "codemirror_mode": {
    "name": "ipython",
    "version": 3
   },
   "file_extension": ".py",
   "mimetype": "text/x-python",
   "name": "python",
   "nbconvert_exporter": "python",
   "pygments_lexer": "ipython3",
   "version": "3.4.3"
  }
 },
 "nbformat": 4,
 "nbformat_minor": 0
}
