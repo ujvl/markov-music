{
 "cells": [
  {
   "cell_type": "markdown",
   "metadata": {},
   "source": [
    "**Imports**"
   ]
  },
  {
   "cell_type": "code",
   "execution_count": 2,
   "metadata": {
    "collapsed": false
   },
   "outputs": [],
   "source": [
    "from __future__ import division\n",
    "import scipy.constants as const\n",
    "import scipy\n",
    "from scipy.io import wavfile\n",
    "from IPython.core.display import HTML\n",
    "from IPython.display import display\n",
    "import numpy as np\n",
    "import matplotlib.pyplot as plt\n",
    "import scipy.signal as signal \n",
    "%matplotlib inline"
   ]
  },
  {
   "cell_type": "markdown",
   "metadata": {},
   "source": [
    "**Constants, defaults, etc.**\n",
    "\n",
    "Sampling rate set to 44.1KHz\n",
    "\n",
    "Number of unique notes set to 88 (source: wikipedia)"
   ]
  },
  {
   "cell_type": "code",
   "execution_count": 19,
   "metadata": {
    "collapsed": false
   },
   "outputs": [],
   "source": [
    "rate = 44100 #44.1 khz\n",
    "key2freq = lambda n : 2 ** ((n+1-49)/12) * 440 # convert a piano key n to a frequency in Hz\n",
    "num_notes = 88\n",
    "\n",
    "# Bi-directional mapping between keys and frequencies\n",
    "key2frequency = {i : key2freq(i) for i in range(88)}\n",
    "frequency2key = {key2frequency[key] : key for key in key2frequency}"
   ]
  },
  {
   "cell_type": "markdown",
   "metadata": {},
   "source": [
    "** Output **\n",
    "\n",
    "Playing the actual music"
   ]
  },
  {
   "cell_type": "code",
   "execution_count": 4,
   "metadata": {
    "collapsed": true
   },
   "outputs": [],
   "source": [
    "# this is a wrapper that take a filename and publish an html <audio> tag to listen to it\n",
    "def wavPlayer(filepath):\n",
    "    src = \"\"\"\n",
    "    <head>\n",
    "    <meta http-equiv=\"Content-Type\" content=\"text/html; charset=utf-8\">\n",
    "    <title>Simple Test</title>\n",
    "    </head>\n",
    "    <body>\n",
    "    <audio controls=\"controls\" style=\"width:600px\" >\n",
    "      <source src=\"files/%s\" type=\"audio/wav\" />\n",
    "      Your browser does not support the audio element.\n",
    "    </audio>\n",
    "    </body>\n",
    "    \"\"\"%(filepath)\n",
    "    display(HTML(src))\n",
    "    \n",
    "def playMusic(title, rate, music):\n",
    "    # write the file on disk, and show in in a Html 5 audio player\n",
    "    music_wav = music * 2**13\n",
    "    wavfile.write(title + '.wav', rate, music_wav.astype(np.int16))\n",
    "    wavPlayer(title + '.wav')"
   ]
  },
  {
   "cell_type": "markdown",
   "metadata": {},
   "source": [
    "** LOGIC **\n",
    "\n",
    "Implementing the Markov model"
   ]
  },
  {
   "cell_type": "code",
   "execution_count": 21,
   "metadata": {
    "collapsed": false
   },
   "outputs": [],
   "source": [
    "def song_from_notes(notes):\n",
    "    \"\"\"Converts a list of notes into a playable song\"\"\"\n",
    "    \n",
    "    note_duration = 0.5 # per key, in sec\n",
    "    music_duration = note_duration * len(notes)\n",
    "    time = np.linspace(0, music_duration, num=rate*music_duration) # indices for 0-16 secs spaced apart by 1/44100\n",
    "    song = np.zeros(len(time))\n",
    "\n",
    "    sinwave = lambda f,t : np.sin(2*np.pi*f*t) # generate a sinusoid of frequency f Hz over time t\n",
    "\n",
    "    idx_note = 0\n",
    "    for note in notes:\n",
    "        if note: # if note == 0, skip.\n",
    "            freq = key2freq(note) # frequency of each note\n",
    "            song[idx_note*rate*note_duration : (idx_note+1)*rate*note_duration-1] = \\\n",
    "                    sinwave(freq,\n",
    "                            time[idx_note*rate*note_duration : (idx_note+1)*rate*note_duration-1 ] \n",
    "                            ) #generates the sinusoids for the song, in .5 sec intervals\n",
    "        idx_note += 1\n",
    "        \n",
    "    return song"
   ]
  },
  {
   "cell_type": "code",
   "execution_count": 6,
   "metadata": {
    "collapsed": true
   },
   "outputs": [],
   "source": [
    "def notes_from_wav(wav_file):\n",
    "    \"\"\"Converts a wav file to a list of notes\"\"\"\n",
    "    \n",
    "    # TODO\n",
    "    notes = []\n",
    "    rate, track1_data = wavfile.read(\"/Users/Ujval/Documents/berkeley/ee126/proj/markovian-music/fur_elise.wav\") #import song\n",
    "    \n",
    "    return notes\n"
   ]
  },
  {
   "cell_type": "code",
   "execution_count": 28,
   "metadata": {
    "collapsed": false
   },
   "outputs": [
    {
     "ename": "NameError",
     "evalue": "global name 'curr_note' is not defined",
     "output_type": "error",
     "traceback": [
      "\u001b[0;31m---------------------------------------------------------------------------\u001b[0m",
      "\u001b[0;31mNameError\u001b[0m                                 Traceback (most recent call last)",
      "\u001b[0;32m<ipython-input-28-dbf7b91518e5>\u001b[0m in \u001b[0;36m<module>\u001b[0;34m()\u001b[0m\n\u001b[1;32m     35\u001b[0m \u001b[0;34m\u001b[0m\u001b[0m\n\u001b[1;32m     36\u001b[0m \u001b[0mnotes\u001b[0m \u001b[0;34m=\u001b[0m \u001b[0;34m[\u001b[0m\u001b[0;36m47\u001b[0m\u001b[0;34m,\u001b[0m \u001b[0;36m47\u001b[0m\u001b[0;34m,\u001b[0m \u001b[0;36m49\u001b[0m\u001b[0;34m,\u001b[0m \u001b[0;36m49\u001b[0m\u001b[0;34m,\u001b[0m \u001b[0;36m47\u001b[0m\u001b[0;34m,\u001b[0m \u001b[0;36m47\u001b[0m\u001b[0;34m]\u001b[0m\u001b[0;34m\u001b[0m\u001b[0m\n\u001b[0;32m---> 37\u001b[0;31m \u001b[0mtest\u001b[0m \u001b[0;34m=\u001b[0m \u001b[0mstochastic_matrix\u001b[0m\u001b[0;34m(\u001b[0m\u001b[0mnotes\u001b[0m\u001b[0;34m,\u001b[0m \u001b[0mdegree\u001b[0m\u001b[0;34m=\u001b[0m\u001b[0;36m1\u001b[0m\u001b[0;34m)\u001b[0m\u001b[0;34m\u001b[0m\u001b[0m\n\u001b[0m",
      "\u001b[0;32m<ipython-input-28-dbf7b91518e5>\u001b[0m in \u001b[0;36mstochastic_matrix\u001b[0;34m(*note_lists, **kwargs)\u001b[0m\n\u001b[1;32m     16\u001b[0m                 \u001b[0mnext_note\u001b[0m \u001b[0;34m=\u001b[0m \u001b[0mNone\u001b[0m\u001b[0;34m\u001b[0m\u001b[0m\n\u001b[1;32m     17\u001b[0m             \u001b[0;32mif\u001b[0m \u001b[0mnext_note\u001b[0m\u001b[0;34m:\u001b[0m\u001b[0;34m\u001b[0m\u001b[0m\n\u001b[0;32m---> 18\u001b[0;31m                 \u001b[0mmatrix\u001b[0m\u001b[0;34m[\u001b[0m\u001b[0mcurr_note\u001b[0m\u001b[0;34m]\u001b[0m\u001b[0;34m[\u001b[0m\u001b[0mnext_note\u001b[0m\u001b[0;34m]\u001b[0m \u001b[0;34m+=\u001b[0m \u001b[0;36m1\u001b[0m\u001b[0;34m\u001b[0m\u001b[0m\n\u001b[0m\u001b[1;32m     19\u001b[0m \u001b[0;34m\u001b[0m\u001b[0m\n\u001b[1;32m     20\u001b[0m     \u001b[0;32mreturn\u001b[0m \u001b[0mnormalize\u001b[0m\u001b[0;34m(\u001b[0m\u001b[0mmatrix\u001b[0m\u001b[0;34m)\u001b[0m\u001b[0;34m\u001b[0m\u001b[0m\n",
      "\u001b[0;31mNameError\u001b[0m: global name 'curr_note' is not defined"
     ]
    }
   ],
   "source": [
    "def stochastic_matrix(*note_lists, **kwargs):\n",
    "    \"\"\"Calculates the stochastic matrix from all of the note lists\n",
    "    and for a Markov model of the given degree\"\"\"\n",
    "    \n",
    "    degree = kwargs['degree']\n",
    "    matrix = np.zeros((num_notes**degree,num_notes**degree))\n",
    "    \n",
    "    for notes in note_lists:\n",
    "        for i in range(len(notes)):\n",
    "            \n",
    "            curr_note_set = notes[i:i+degree]\n",
    "            \n",
    "            if i < len(notes)-degree:\n",
    "                next_note = notes[i+degree+1]\n",
    "            else:\n",
    "                next_note = None\n",
    "            if next_note:\n",
    "                matrix[curr_note][next_note] += 1\n",
    "                \n",
    "    return normalize(matrix)\n",
    "\n",
    "def normalize(matrix):\n",
    "    \"\"\"Normalizes matrix rows\"\"\"\n",
    "    \n",
    "    l = len(matrix)\n",
    "    totals = matrix.sum(axis=1)\n",
    "    new_matrix = np.array([])\n",
    "    for i in range(l):\n",
    "        if totals[i] == 0:\n",
    "            new_matrix = np.append(new_matrix, notes[i])\n",
    "            continue\n",
    "        new_row = [el/totals[i] for el in np.nditer(notes[i])]\n",
    "        new_matrix = np.append(new_matrix, new_row)\n",
    "    return new_matrix.reshape(l,l)\n",
    "    \n",
    "notes = [47, 47, 49, 49, 47, 47]\n",
    "test = stochastic_matrix(notes, degree=1)\n"
   ]
  },
  {
   "cell_type": "code",
   "execution_count": 8,
   "metadata": {
    "collapsed": false
   },
   "outputs": [],
   "source": [
    "def random_walk(stoch_matrix, size):\n",
    "    initial_note = 47\n",
    "    distribution = stoch_matrix[initial_note]\n",
    "    result = np.array([initial_note])\n",
    "    for i in range(1, size):\n",
    "        x = np.sum(distribution)\n",
    "        if not x:\n",
    "            next_val = np.random.choice(np.arange(0,88))\n",
    "            result = np.append(result, next_val)\n",
    "            distribution = stoch_matrix[next_val]\n",
    "        else:\n",
    "            next_val = np.random.choice(np.arange(0,88), 1, p = distribution)\n",
    "            result = np.append(result, next_val)\n",
    "            distribution = stoch_matrix[next_val[0]]\n",
    "    return result"
   ]
  },
  {
   "cell_type": "markdown",
   "metadata": {},
   "source": [
    "**MAIN**\n",
    "\n",
    "Putting everything together"
   ]
  },
  {
   "cell_type": "code",
   "execution_count": 11,
   "metadata": {
    "collapsed": false
   },
   "outputs": [
    {
     "name": "stderr",
     "output_type": "stream",
     "text": [
      "/Users/Ujval/Documents/berkeley/ee126/venv/lib/python2.7/site-packages/ipykernel/__main__.py:15: DeprecationWarning: using a non-integer number instead of an integer will result in an error in the future\n"
     ]
    },
    {
     "data": {
      "text/html": [
       "\n",
       "    <head>\n",
       "    <meta http-equiv=\"Content-Type\" content=\"text/html; charset=utf-8\">\n",
       "    <title>Simple Test</title>\n",
       "    </head>\n",
       "    <body>\n",
       "    <audio controls=\"controls\" style=\"width:600px\" >\n",
       "      <source src=\"files/test1.wav\" type=\"audio/wav\" />\n",
       "      Your browser does not support the audio element.\n",
       "    </audio>\n",
       "    </body>\n",
       "    "
      ],
      "text/plain": [
       "<IPython.core.display.HTML object>"
      ]
     },
     "metadata": {},
     "output_type": "display_data"
    },
    {
     "data": {
      "text/html": [
       "\n",
       "    <head>\n",
       "    <meta http-equiv=\"Content-Type\" content=\"text/html; charset=utf-8\">\n",
       "    <title>Simple Test</title>\n",
       "    </head>\n",
       "    <body>\n",
       "    <audio controls=\"controls\" style=\"width:600px\" >\n",
       "      <source src=\"files/test2.wav\" type=\"audio/wav\" />\n",
       "      Your browser does not support the audio element.\n",
       "    </audio>\n",
       "    </body>\n",
       "    "
      ],
      "text/plain": [
       "<IPython.core.display.HTML object>"
      ]
     },
     "metadata": {},
     "output_type": "display_data"
    }
   ],
   "source": [
    "# Get notes from wav\n",
    "notes = notes_from_wav(wavfile)\n",
    "notes = [np.random.choice(range(88)) for i in range(100)]\n",
    "notes = [47, 47, 49, 49, 47, 47, 44, 44, 47, 47, 44, 44, 42, 42, 42, 0, 47, 47, 49, 49, 47, 47, 44, 44, 47, 44, 42, 44, 40, 40, 40, 0]# Calculate stochastic matrix\n",
    "notes2 = [47, 42, 44, 40, 39, 40, 39]# Calculate stochastic matrix\n",
    "\n",
    "matrix = stochastic_matrix(1, notes, notes2)\n",
    "\n",
    "# Create a random walk of notes, starting from a particular note\n",
    "generated_song_notes = random_walk(matrix, len(notes))\n",
    "\n",
    "# play song for notes\n",
    "playMusic(\"test1\", rate, song_from_notes(generated_song_notes))\n",
    "playMusic(\"test2\", rate, song_from_notes(notes2))"
   ]
  },
  {
   "cell_type": "code",
   "execution_count": null,
   "metadata": {
    "collapsed": false
   },
   "outputs": [],
   "source": [
    "rate, track1_data = wavfile.read(\"/Users/Ujval/Documents/berkeley/ee126/proj/markovian-music/fur_elise.wav\") #import song\n",
    "\n",
    "flattened = (track1_data[:, 1] + track1_data[:,0])/2\n",
    "frequencies = abs(np.fft.fft(flattened))\n",
    "\n",
    "t = np.linspace(0, (len(track1_data)-1)/rate, len(track1_data))\n",
    "plt.plot(t, flattened)\n",
    "plt.show()\n",
    "\n",
    "#playMusic('gymnopedie1_played', rate, data_song1)"
   ]
  },
  {
   "cell_type": "code",
   "execution_count": null,
   "metadata": {
    "collapsed": false
   },
   "outputs": [],
   "source": [
    "\n",
    "frequencies, times, specto = signal.spectrogram(flattened)\n",
    "print len(frequencies), len(times), len(specto)\n",
    "print frequencies\n",
    "print times\n",
    "print len(flattened)\n",
    "print \"---\"\n",
    "\n",
    "from pylab import specgram\n",
    "\n",
    "specgram(flattened)\n"
   ]
  },
  {
   "cell_type": "code",
   "execution_count": null,
   "metadata": {
    "collapsed": true
   },
   "outputs": [],
   "source": []
  }
 ],
 "metadata": {
  "kernelspec": {
   "display_name": "Python 2",
   "language": "python",
   "name": "python2"
  },
  "language_info": {
   "codemirror_mode": {
    "name": "ipython",
    "version": 2
   },
   "file_extension": ".py",
   "mimetype": "text/x-python",
   "name": "python",
   "nbconvert_exporter": "python",
   "pygments_lexer": "ipython2",
   "version": "2.7.6"
  }
 },
 "nbformat": 4,
 "nbformat_minor": 0
}
