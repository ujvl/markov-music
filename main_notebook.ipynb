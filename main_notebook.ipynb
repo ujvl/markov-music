{
 "cells": [
  {
   "cell_type": "markdown",
   "metadata": {},
   "source": [
    "**Imports**"
   ]
  },
  {
   "cell_type": "code",
   "execution_count": 9,
   "metadata": {
    "collapsed": false
   },
   "outputs": [],
   "source": [
    "from __future__ import division\n",
    "import scipy.constants as const\n",
    "import math\n",
    "import scipy\n",
    "from scipy.io import wavfile\n",
    "from IPython.core.display import HTML\n",
    "from IPython.display import display\n",
    "import numpy as np\n",
    "import matplotlib.pyplot as plt\n",
    "import scipy.signal as signal \n",
    "%matplotlib inline"
   ]
  },
  {
   "cell_type": "markdown",
   "metadata": {},
   "source": [
    "**Constants, defaults, etc.**\n",
    "\n",
    "Sampling rate set to 44.1KHz\n",
    "\n",
    "Number of unique notes set to 88 (source: wikipedia)"
   ]
  },
  {
   "cell_type": "code",
   "execution_count": 10,
   "metadata": {
    "collapsed": false
   },
   "outputs": [],
   "source": [
    "rate = 44100 #44.1 khz\n",
    "key2freq = lambda n : 2 ** ((n+1-49)/12) * 440 # convert a piano key n to a frequency in Hz\n",
    "num_notes = 88\n",
    "wav_file = \"fur_elise.wav\"\n",
    "\n",
    "# Bi-directional mapping between keys and frequencies\n",
    "key2frequency = {i : key2freq(i) for i in range(88)}\n",
    "frequency2key = {key2frequency[key] : key for key in key2frequency}"
   ]
  },
  {
   "cell_type": "markdown",
   "metadata": {},
   "source": [
    "** Output **\n",
    "\n",
    "Playing the actual music"
   ]
  },
  {
   "cell_type": "code",
   "execution_count": 11,
   "metadata": {
    "collapsed": true
   },
   "outputs": [],
   "source": [
    "# this is a wrapper that take a filename and publish an html <audio> tag to listen to it\n",
    "def wavPlayer(filepath):\n",
    "    src = \"\"\"\n",
    "    <head>\n",
    "    <meta http-equiv=\"Content-Type\" content=\"text/html; charset=utf-8\">\n",
    "    <title>Simple Test</title>\n",
    "    </head>\n",
    "    <body>\n",
    "    <audio controls=\"controls\" style=\"width:600px\" >\n",
    "      <source src=\"files/%s\" type=\"audio/wav\" />\n",
    "      Your browser does not support the audio element.\n",
    "    </audio>\n",
    "    </body>\n",
    "    \"\"\"%(filepath)\n",
    "    display(HTML(src))\n",
    "    \n",
    "def playMusic(title, rate, music):\n",
    "    # write the file on disk, and show in in a Html 5 audio player\n",
    "    music_wav = music * 2**13\n",
    "    wavfile.write(title + '.wav', rate, music_wav.astype(np.int16))\n",
    "    wavPlayer(title + '.wav')"
   ]
  },
  {
   "cell_type": "markdown",
   "metadata": {},
   "source": [
    "** LOGIC **\n",
    "\n",
    "Implementing the Markov model"
   ]
  },
  {
   "cell_type": "code",
   "execution_count": 12,
   "metadata": {
    "collapsed": false
   },
   "outputs": [],
   "source": [
    "def song_from_notes(notes):\n",
    "    \"\"\"Converts a list of notes into a playable song\"\"\"\n",
    "    \n",
    "    note_duration = 0.5 # per key, in sec\n",
    "    music_duration = note_duration * len(notes)\n",
    "    time = np.linspace(0, music_duration, num=rate*music_duration) # indices for 0-16 secs spaced apart by 1/44100\n",
    "    song = np.zeros(len(time))\n",
    "\n",
    "    sinwave = lambda f,t : np.sin(2*np.pi*f*t) # generate a sinusoid of frequency f Hz over time t\n",
    "\n",
    "    idx_note = 0\n",
    "    for note in notes:\n",
    "        if note: # if note == 0, skip.\n",
    "            freq = key2freq(note) # frequency of each note\n",
    "            song[idx_note*rate*note_duration : (idx_note+1)*rate*note_duration-1] = \\\n",
    "                    sinwave(freq,\n",
    "                            time[idx_note*rate*note_duration : (idx_note+1)*rate*note_duration-1 ] \n",
    "                            ) #generates the sinusoids for the song, in .5 sec intervals\n",
    "        idx_note += 1\n",
    "        \n",
    "    return song"
   ]
  },
  {
   "cell_type": "code",
   "execution_count": 16,
   "metadata": {
    "collapsed": false
   },
   "outputs": [
    {
     "name": "stdout",
     "output_type": "stream",
     "text": [
      "Array fur_elise.wav\n",
      "shape: (7713792, 2)\n",
      "dtype: int16\n",
      "min, max: -20017 17591\n",
      "\n",
      "note length:0.197415"
     ]
    },
    {
     "name": "stderr",
     "output_type": "stream",
     "text": [
      "/Users/Adesoji/anaconda/lib/python2.7/site-packages/ipykernel/__main__.py:38: DeprecationWarning: using a non-integer number instead of an integer will result in an error in the future\n",
      "/Users/Adesoji/anaconda/lib/python2.7/site-packages/ipykernel/__main__.py:39: DeprecationWarning: using a non-integer number instead of an integer will result in an error in the future\n",
      "/Users/Adesoji/anaconda/lib/python2.7/site-packages/ipykernel/__main__.py:35: DeprecationWarning: using a non-integer number instead of an integer will result in an error in the future\n"
     ]
    },
    {
     "name": "stdout",
     "output_type": "stream",
     "text": [
      "\n",
      "852\n",
      "[55, 55, 54, 54, 55, 54, 55, 50, 53, 51, 51, 48, 43, 43, 39, 43, 48, 50, 50, 47, 47, 47, 47, 47, 51, 47, 36, 43, 55, 54, 55, 54, 55, 50, 53, 51, 51, 48, 43, 39, 39, 43, 43, 50, 43, 43, 43, 51, 50, 48, 48, 43, 43, 43, 55, 54, 55, 55, 55, 55, 53, 53, 51, 48, 48, 43, 39, 43, 43, 50, 50, 50, 43, 47, 47, 47, 47, 47, 36, 43, 55, 54, 55, 54, 55, 50, 53, 53, 48, 48, 48, 39, 39, 43, 43, 50, 50, 43, 43, 43, 50, 48, 48, 43, 43, 51, 51, 53, 55, 46, 39, 46, 56, 55, 55, 53, 53, 38, 44, 44, 53, 53, 43, 43, 43, 53, 53, 50, 50, 50, 43, 43, 55, 43, 55, 55, 55, 54, 55, 54, 54, 55, 54, 55, 55, 55, 55, 54, 55, 54, 55, 50, 53, 51, 48, 48, 43, 39, 39, 43, 50, 50, 43, 43, 43, 47, 47, 47, 47, 36, 43, 55, 54, 54, 54, 54, 55, 50, 53, 51, 48, 43, 43, 39, 43, 43, 50, 50, 43, 43, 43, 51, 50, 48, 43, 43, 50, 51, 53, 55, 55, 39, 39, 56, 55, 55, 53, 53, 38, 44, 44, 53, 51, 43, 43, 43, 53, 53, 50, 50, 43, 43, 55, 43, 55, 55, 55, 55, 54, 55, 54, 55, 55, 54, 55, 54, 55, 54, 55, 54, 55, 55, 50, 51, 51, 48, 43, 43, 39, 43, 48, 50, 50, 43, 47, 47, 47, 47, 51, 43, 43, 43, 55, 54, 55, 54, 55, 50, 53, 51, 51, 48, 43, 43, 39, 39, 48, 50, 43, 43, 43, 43, 43, 50, 48, 43, 43, 43, 36, 51, 44, 51, 51, 44, 51, 51, 51, 39, 56, 55, 55, 55, 37, 53, 37, 41, 41, 60, 58, 58, 56, 55, 53, 51, 49, 49, 36, 39, 49, 49, 49, 51, 51, 39, 39, 39, 53, 54, 55, 36, 39, 55, 41, 41, 51, 51, 43, 43, 43, 53, 44, 51, 58, 58, 44, 58, 41, 55, 58, 62, 58, 55, 58, 53, 39, 58, 58, 58, 58, 41, 55, 58, 62, 58, 55, 58, 53, 55, 55, 55, 55, 55, 55, 54, 55, 55, 55, 55, 50, 55, 55, 54, 55, 55, 55, 55, 55, 55, 50, 55, 55, 54, 54, 55, 54, 55, 55, 54, 55, 54, 55, 54, 55, 55, 50, 53, 51, 43, 43, 43, 39, 43, 43, 50, 50, 50, 43, 47, 47, 47, 51, 43, 43, 43, 55, 54, 55, 54, 55, 50, 53, 51, 48, 48, 43, 39, 39, 48, 50, 50, 43, 43, 43, 51, 50, 48, 43, 43, 50, 51, 53, 55, 55, 39, 39, 46, 56, 55, 53, 53, 38, 44, 44, 44, 53, 51, 43, 43, 43, 53, 51, 50, 50, 43, 43, 55, 55, 43, 55, 55, 55, 54, 54, 55, 54, 55, 55, 54, 55, 54, 55, 54, 55, 54, 55, 55, 53, 51, 51, 48, 43, 43, 39, 43, 48, 50, 50, 50, 43, 47, 47, 47, 47, 43, 43, 43, 55, 54, 55, 54, 55, 50, 53, 51, 51, 48, 43, 43, 39, 43, 43, 50, 50, 47, 43, 51, 50, 50, 48, 43, 48, 43, 52, 52, 43, 52, 49, 49, 43, 55, 36, 43, 53, 53, 44, 44, 55, 55, 56, 53, 47, 47, 47, 43, 47, 47, 47, 55, 55, 55, 55, 36, 55, 53, 53, 44, 44, 52, 51, 41, 41, 45, 45, 45, 46, 46, 39, 48, 39, 51, 51, 51, 41, 41, 50, 39, 39, 43, 43, 52, 24, 24, 49, 49, 25, 25, 43, 43, 53, 53, 53, 44, 25, 55, 55, 53, 53, 53, 43, 48, 56, 53, 55, 53, 53, 37, 37, 37, 37, 37, 54, 54, 37, 37, 37, 37, 51, 49, 49, 37, 37, 37, 44, 44, 47, 47, 47, 47, 47, 47, 47, 47, 47, 43, 43, 39, 39, 39, 39, 39, 50, 41, 50, 50, 50, 50, 31, 30, 50, 36, 39, 43, 55, 53, 50, 43, 55, 63, 39, 62, 60, 67, 79, 77, 74, 73, 43, 71, 68, 66, 66, 63, 62, 61, 59, 58, 57, 57, 55, 55, 54, 55, 50, 53, 51, 51, 48, 43, 43, 39, 43, 43, 50, 43, 43, 43, 47, 47, 47, 47, 36, 43, 43, 55, 54, 55, 54, 55, 50, 53, 51, 48, 48, 43, 39, 39, 48, 50, 50, 50, 43, 43, 51, 50, 48, 48, 43, 43, 51, 53, 55, 55, 53, 39, 46, 56, 55, 53, 53, 38, 44, 44, 44, 53, 51, 43, 43, 43, 53, 51, 50, 50, 50, 43, 43, 55, 43, 55, 55, 55, 54, 55, 55, 54, 55, 54, 54, 54, 54, 54, 54, 55, 54, 55, 50, 53, 51, 48, 48, 48, 36, 39, 39, 48, 50, 43, 47, 47, 47, 47, 47, 47, 43, 43, 55, 55, 54, 55, 54, 55, 50, 53, 51, 48, 48, 36, 39, 39, 43, 39, 50, 43, 43, 41, 41, 41, 51, 51, 50, 50, 50, 39, 39, 43, 43, 43, 43, 36, 36, 36, 36, 36]\n"
     ]
    },
    {
     "name": "stderr",
     "output_type": "stream",
     "text": [
      "/Users/Adesoji/anaconda/lib/python2.7/site-packages/ipykernel/__main__.py:36: DeprecationWarning: using a non-integer number instead of an integer will result in an error in the future\n"
     ]
    },
    {
     "data": {
      "image/png": "[encoded data removed]",
      "text/plain": [
       "<matplotlib.figure.Figure at 0x11da7fcd0>"
      ]
     },
     "metadata": {},
     "output_type": "display_data"
    },
    {
     "data": {
      "image/png": "[encoded data removed]",
      "text/plain": [
       "<matplotlib.figure.Figure at 0x11de02e50>"
      ]
     },
     "metadata": {},
     "output_type": "display_data"
    }
   ],
   "source": [
    "def notes_from_wav(wav_file):\n",
    "    \"\"\"Converts a wav file to a list of notes\"\"\"\n",
    "    rate, data = scipy.io.wavfile.read(wav_file)\n",
    "    show_info(wav_file, data)\n",
    "    freqs = convert_signal_to_freqs(data, rate)\n",
    "    formatted_freqs = nearest_piano_freq(freqs, key2frequency.values())\n",
    "    notes = [frequency2key[freq] for freq in formatted_freqs]\n",
    "    return notes\n",
    "\n",
    "def show_info(aname, a):\n",
    "    print \"Array\", aname\n",
    "    print \"shape:\", a.shape\n",
    "    print \"dtype:\", a.dtype\n",
    "    print \"min, max:\", a.min(), a.max()\n",
    "    print\n",
    "\n",
    "def convert_signal_to_freqs(data, rate):\n",
    "    t = np.linspace(0, (len(data)-1)/rate, len(data))\n",
    "    song = (data[:, 1] + data[:,0])/2\n",
    "    \n",
    "    window_size = 8706.0\n",
    "    note_length = window_size/rate\n",
    "    print\"note length:%f\" %note_length\n",
    "    num_windows = math.ceil(len(song)/window_size)\n",
    "    \n",
    "    ffts = []\n",
    "    bins = []\n",
    "    freq_lists = []\n",
    "    f = lambda x :np.linspace(-0.5*rate, 0.5*rate, x)\n",
    "    tx = lambda x :np.linspace(0, note_length, x)\n",
    "\n",
    "    i = 0\n",
    "    while i < len(t):\n",
    "        if i+window_size >= len(t):\n",
    "            curr_fft = np.fft.fft(song[i:])\n",
    "            curr_bin = song[i:]\n",
    "        else:\n",
    "            curr_fft = np.fft.fftshift(abs(np.fft.fft(song[i:i+window_size])))\n",
    "            curr_bin = song[i:i+window_size]\n",
    "        freqs = f(len(curr_fft))\n",
    "        highestMagIndices = np.where(curr_fft == max(curr_fft))\n",
    "        curr_freq = abs(freqs[highestMagIndices[0][0]])\n",
    "        freq_lists.append(curr_freq)\n",
    "        ffts.append(curr_fft)\n",
    "        bins.append(curr_bin)\n",
    "        i += window_size\n",
    "\n",
    "    filtered_list = [freq for freq in freq_lists if freq > 25 and freq < 4200]\n",
    "    print len(filtered_list)\n",
    "    \n",
    "    assert num_windows == len(ffts)\n",
    "    index = 7\n",
    "    plt.figure()\n",
    "    plt.plot(f(len(ffts[index])), ffts[index])\n",
    "    plt.figure()\n",
    "    plt.plot(tx(len(bins[index])), bins[index])\n",
    "    return filtered_list\n",
    "\n",
    "def nearest_piano_freq(freqs, standard_freqs):\n",
    "    formatted_freqs = []\n",
    "    for freq in freqs:\n",
    "        check_list = [abs(f - freq) for f in standard_freqs]\n",
    "        min_index = check_list.index(min(check_list))\n",
    "        formatted_freqs.append(standard_freqs[min_index])\n",
    "    return formatted_freqs\n",
    "\n",
    "fur_elise_notes = notes_from_wav(wav_file)\n",
    "print fur_elise_notes"
   ]
  },
  {
   "cell_type": "code",
   "execution_count": 68,
   "metadata": {
    "collapsed": false
   },
   "outputs": [
    {
     "name": "stderr",
     "output_type": "stream",
     "text": [
      "/Users/Ujval/Documents/berkeley/ee126/venv/lib/python2.7/site-packages/ipykernel/__main__.py:30: RuntimeWarning: invalid value encountered in true_divide\n"
     ]
    }
   ],
   "source": [
    "def stochastic_matrix(*note_lists, **kwargs):\n",
    "    \"\"\"Calculates the stochastic matrix from all of the note lists\n",
    "    and for a Markov model of the given degree\"\"\"\n",
    "    \n",
    "    degree = kwargs['degree']\n",
    "    matrix = np.zeros((num_notes**degree,num_notes**degree))\n",
    "    \n",
    "    for notes in note_lists:\n",
    "        for i in range(len(notes)):\n",
    "            \n",
    "            curr_note_sequence = notes[i:i+degree]\n",
    "            \n",
    "            # Calculate the index\n",
    "            curr_seq_index = notes2index(curr_note_sequence)\n",
    "                        \n",
    "            if i < len(notes)-degree:\n",
    "                # Get next note\n",
    "                next_note = notes[i+degree]\n",
    "                next_note_sequence = curr_note_sequence[1:] + [next_note]\n",
    "                next_seq_index = notes2index(next_note_sequence)\n",
    "                \n",
    "                # increment count for element of stochastic matrix\n",
    "                matrix[curr_seq_index][next_seq_index] += 1\n",
    "                \n",
    "    return normalize(matrix)\n",
    "\n",
    "def normalize(matrix):\n",
    "    \"\"\"Normalizes matrix rows\"\"\"\n",
    "    \n",
    "    row_sums = matrix.sum(axis=1)\n",
    "    matrix = matrix / row_sums[:, np.newaxis]\n",
    "    return matrix\n",
    "    \n",
    "def notes2index(note_sequence):\n",
    "    \"\"\"Calculates the index of the stochastic matrix for the given sequence of notes,\n",
    "    generalized to n notes. Does this by mapping base-88 to base-10\"\"\"\n",
    "    return sum([note_sequence[i]*(88**i) for i in range(len(note_sequence)-1, -1, -1)])\n",
    "\n",
    "notes = [47, 47, 49, 49, 47, 47]\n",
    "test = stochastic_matrix(notes, degree=1)"
   ]
  },
  {
   "cell_type": "code",
   "execution_count": 8,
   "metadata": {
    "collapsed": false
   },
   "outputs": [],
   "source": [
    "def random_walk(stoch_matrix, size):\n",
    "    initial_note = 47\n",
    "    distribution = stoch_matrix[initial_note]\n",
    "    result = np.array([initial_note])\n",
    "    for i in range(1, size):\n",
    "        x = np.sum(distribution)\n",
    "        if not x:\n",
    "            next_val = np.random.choice(np.arange(0,88))\n",
    "            result = np.append(result, next_val)\n",
    "            distribution = stoch_matrix[next_val]\n",
    "        else:\n",
    "            next_val = np.random.choice(np.arange(0,88), 1, p = distribution)\n",
    "            result = np.append(result, next_val)\n",
    "            distribution = stoch_matrix[next_val[0]]\n",
    "    return result"
   ]
  },
  {
   "cell_type": "markdown",
   "metadata": {},
   "source": [
    "**MAIN**\n",
    "\n",
    "Putting everything together"
   ]
  },
  {
   "cell_type": "code",
   "execution_count": 11,
   "metadata": {
    "collapsed": false
   },
   "outputs": [
    {
     "name": "stderr",
     "output_type": "stream",
     "text": [
      "/Users/Ujval/Documents/berkeley/ee126/venv/lib/python2.7/site-packages/ipykernel/__main__.py:15: DeprecationWarning: using a non-integer number instead of an integer will result in an error in the future\n"
     ]
    },
    {
     "data": {
      "text/html": [
       "\n",
       "    <head>\n",
       "    <meta http-equiv=\"Content-Type\" content=\"text/html; charset=utf-8\">\n",
       "    <title>Simple Test</title>\n",
       "    </head>\n",
       "    <body>\n",
       "    <audio controls=\"controls\" style=\"width:600px\" >\n",
       "      <source src=\"files/test1.wav\" type=\"audio/wav\" />\n",
       "      Your browser does not support the audio element.\n",
       "    </audio>\n",
       "    </body>\n",
       "    "
      ],
      "text/plain": [
       "<IPython.core.display.HTML object>"
      ]
     },
     "metadata": {},
     "output_type": "display_data"
    },
    {
     "data": {
      "text/html": [
       "\n",
       "    <head>\n",
       "    <meta http-equiv=\"Content-Type\" content=\"text/html; charset=utf-8\">\n",
       "    <title>Simple Test</title>\n",
       "    </head>\n",
       "    <body>\n",
       "    <audio controls=\"controls\" style=\"width:600px\" >\n",
       "      <source src=\"files/test2.wav\" type=\"audio/wav\" />\n",
       "      Your browser does not support the audio element.\n",
       "    </audio>\n",
       "    </body>\n",
       "    "
      ],
      "text/plain": [
       "<IPython.core.display.HTML object>"
      ]
     },
     "metadata": {},
     "output_type": "display_data"
    }
   ],
   "source": [
    "# Get notes from wav\n",
    "notes = notes_from_wav(wavfile)\n",
    "notes = [np.random.choice(range(88)) for i in range(100)]\n",
    "notes = [47, 47, 49, 49, 47, 47, 44, 44, 47, 47, 44, 44, 42, 42, 42, 0, 47, 47, 49, 49, 47, 47, 44, 44, 47, 44, 42, 44, 40, 40, 40, 0]# Calculate stochastic matrix\n",
    "notes2 = [47, 42, 44, 40, 39, 40, 39]# Calculate stochastic matrix\n",
    "\n",
    "matrix = stochastic_matrix(1, notes, notes2)\n",
    "\n",
    "# Create a random walk of notes, starting from a particular note\n",
    "generated_song_notes = random_walk(matrix, len(notes))\n",
    "\n",
    "# play song for notes\n",
    "playMusic(\"test1\", rate, song_from_notes(generated_song_notes))\n",
    "playMusic(\"test2\", rate, song_from_notes(notes2))"
   ]
  },
  {
   "cell_type": "code",
   "execution_count": 29,
   "metadata": {
    "collapsed": false
   },
   "outputs": [
    {
     "data": {
      "image/png": "[encoded data removed]",
      "text/plain": [
       "<matplotlib.figure.Figure at 0x108d514d0>"
      ]
     },
     "metadata": {},
     "output_type": "display_data"
    }
   ],
   "source": [
    "rate, track1_data = wavfile.read(\"/Users/Ujval/Documents/berkeley/ee126/proj/markovian-music/fur_elise.wav\") #import song\n",
    "\n",
    "flattened = (track1_data[:, 1] + track1_data[:,0])/2\n",
    "frequencies = abs(np.fft.fft(flattened))\n",
    "\n",
    "t = np.linspace(0, (len(track1_data)-1)/rate, len(track1_data))\n",
    "plt.plot(t, flattened)\n",
    "plt.show()\n",
    "\n",
    "#playMusic('gymnopedie1_played', rate, data_song1)"
   ]
  }
 ],
 "metadata": {
  "kernelspec": {
   "display_name": "Python 2",
   "language": "python",
   "name": "python2"
  },
  "language_info": {
   "codemirror_mode": {
    "name": "ipython",
    "version": 2
   },
   "file_extension": ".py",
   "mimetype": "text/x-python",
   "name": "python",
   "nbconvert_exporter": "python",
   "pygments_lexer": "ipython2",
   "version": "2.7.10"
  }
 },
 "nbformat": 4,
 "nbformat_minor": 0
}
