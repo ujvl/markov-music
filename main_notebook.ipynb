{
 "cells": [
  {
   "cell_type": "markdown",
   "metadata": {},
   "source": [
    "**Imports**"
   ]
  },
  {
   "cell_type": "code",
   "execution_count": 1,
   "metadata": {
    "collapsed": false
   },
   "outputs": [],
   "source": [
    "from __future__ import division\n",
    "import scipy.constants as const\n",
    "import math\n",
    "import scipy\n",
    "from scipy.io import wavfile\n",
    "from IPython.core.display import HTML\n",
    "from IPython.display import display\n",
    "import numpy as np\n",
    "import matplotlib.pyplot as plt\n",
    "import scipy.signal as signal \n",
    "%matplotlib inline\n"
   ]
  },
  {
   "cell_type": "markdown",
   "metadata": {},
   "source": [
    "**Constants, defaults, etc.**\n",
    "\n",
    "Sampling rate set to 44.1KHz\n",
    "\n",
    "Number of unique notes set to 88 (source: wikipedia)"
   ]
  },
  {
   "cell_type": "code",
   "execution_count": 2,
   "metadata": {
    "collapsed": false
   },
   "outputs": [
    {
     "name": "stdout",
     "output_type": "stream",
     "text": [
      "{0: 27.5, 1: 29.13523509488062, 2: 30.86770632850775, 3: 32.70319566257483, 4: 34.64782887210901, 5: 36.70809598967594, 6: 38.890872965260115, 7: 41.20344461410875, 8: 43.653528929125486, 9: 46.2493028389543, 10: 48.999429497718666, 11: 51.91308719749314, 12: 55.0, 13: 58.27047018976124, 14: 61.7354126570155, 15: 65.40639132514966, 16: 69.29565774421802, 17: 73.41619197935188, 18: 77.78174593052023, 19: 82.4068892282175, 20: 87.30705785825097, 21: 92.4986056779086, 22: 97.99885899543733, 23: 103.82617439498628, 24: 110.0, 25: 116.54094037952248, 26: 123.47082531403103, 27: 130.8127826502993, 28: 138.59131548843604, 29: 146.8323839587038, 30: 155.56349186104046, 31: 164.81377845643496, 32: 174.61411571650194, 33: 184.9972113558172, 34: 195.99771799087463, 35: 207.65234878997256, 36: 220.0, 37: 233.08188075904496, 38: 246.94165062806206, 39: 261.6255653005986, 40: 277.1826309768721, 41: 293.6647679174076, 42: 311.1269837220809, 43: 329.6275569128699, 44: 349.2282314330039, 45: 369.9944227116344, 46: 391.99543598174927, 47: 415.3046975799451, 48: 440.0, 49: 466.1637615180899, 50: 493.8833012561241, 51: 523.2511306011972, 52: 554.3652619537442, 53: 587.3295358348151, 54: 622.2539674441618, 55: 659.2551138257398, 56: 698.4564628660078, 57: 739.9888454232688, 58: 783.9908719634985, 59: 830.6093951598903, 60: 880.0, 61: 932.3275230361799, 62: 987.7666025122483, 63: 1046.5022612023945, 64: 1108.7305239074883, 65: 1174.6590716696303, 66: 1244.5079348883237, 67: 1318.5102276514797, 68: 1396.9129257320155, 69: 1479.9776908465376, 70: 1567.981743926997, 71: 1661.2187903197805, 72: 1760.0, 73: 1864.6550460723597, 74: 1975.533205024496, 75: 2093.004522404789, 76: 2217.4610478149766, 77: 2349.31814333926, 78: 2489.0158697766474, 79: 2637.02045530296, 80: 2793.825851464031, 81: 2959.955381693075, 82: 3135.9634878539946, 83: 3322.437580639561, 84: 3520.0, 85: 3729.3100921447194, 86: 3951.066410048992, 87: 4186.009044809578}\n"
     ]
    }
   ],
   "source": [
    "rate = 44100 #44.1 khz\n",
    "key2freq = lambda n : 2 ** ((n+1-49)/12) * 440 # convert a piano key n to a frequency in Hz\n",
    "num_notes = 88\n",
    "\n",
    "# Bi-directional mapping between keys and frequencies\n",
    "key2frequency = {i : key2freq(i) for i in range(88)}\n",
    "frequency2key = {key2frequency[key] : key for key in key2frequency}\n",
    "print(key2frequency)"
   ]
  },
  {
   "cell_type": "markdown",
   "metadata": {},
   "source": [
    "** Output **\n",
    "\n",
    "Playing the actual music"
   ]
  },
  {
   "cell_type": "code",
   "execution_count": 3,
   "metadata": {
    "collapsed": true
   },
   "outputs": [],
   "source": [
    "# this is a wrapper that take a filename and publish an html <audio> tag to listen to it\n",
    "def wavPlayer(filepath):\n",
    "    src = \"\"\"\n",
    "    <head>\n",
    "    <meta http-equiv=\"Content-Type\" content=\"text/html; charset=utf-8\">\n",
    "    <title>Simple Test</title>\n",
    "    </head>\n",
    "    <body>\n",
    "    <audio controls=\"controls\" style=\"width:600px\" >\n",
    "      <source src=\"files/%s\" type=\"audio/wav\" />\n",
    "      Your browser does not support the audio element.\n",
    "    </audio>\n",
    "    </body>\n",
    "    \"\"\"%(filepath)\n",
    "    display(HTML(src))\n",
    "    \n",
    "def playMusic(title, rate, music):\n",
    "    # write the file on disk, and show in in a Html 5 audio player\n",
    "    music_wav = music * 2**13\n",
    "    wavfile.write(title + '.wav', rate, music_wav.astype(np.int16))\n",
    "    wavPlayer(title + '.wav')"
   ]
  },
  {
   "cell_type": "markdown",
   "metadata": {},
   "source": [
    "** LOGIC **\n",
    "\n",
    "Implementing the Markov model"
   ]
  },
  {
   "cell_type": "code",
   "execution_count": 4,
   "metadata": {
    "collapsed": false
   },
   "outputs": [],
   "source": [
    "def song_from_notes(notes, note_duration):\n",
    "    \"\"\"Converts a list of notes into a playable song\"\"\"\n",
    "    \n",
    "    #note_duration = 0.5 # per key, in sec\n",
    "    music_duration = note_duration * len(notes)\n",
    "    time = np.linspace(0, music_duration, num=rate*music_duration) # indices for 0-16 secs spaced apart by 1/44100\n",
    "    song = np.zeros(len(time))\n",
    "\n",
    "    sinwave = lambda f,t : np.sin(2*np.pi*f*t) # generate a sinusoid of frequency f Hz over time t\n",
    "\n",
    "    idx_note = 0\n",
    "    for note in notes:\n",
    "        if note: # if note == 0, skip.\n",
    "            freq = key2freq(note) # frequency of each note\n",
    "            song[idx_note*rate*note_duration : (idx_note+1)*rate*note_duration-1] = \\\n",
    "                    sinwave(freq,\n",
    "                            time[idx_note*rate*note_duration : (idx_note+1)*rate*note_duration-1 ] \n",
    "                            ) #generates the sinusoids for the song, in .5 sec intervals\n",
    "        idx_note += 1\n",
    "        \n",
    "    return song"
   ]
  },
  {
   "cell_type": "code",
   "execution_count": 5,
   "metadata": {
    "collapsed": false
   },
   "outputs": [],
   "source": [
    "def notes_from_wav(wav_file):\n",
    "    \"\"\"Converts a wav file to a list of notes\"\"\"\n",
    "    rate, data = scipy.io.wavfile.read(wav_file)\n",
    "    show_info(wav_file, data)\n",
    "    freqs = convert_signal_to_freqs(data, rate)\n",
    "    formatted_freqs = nearest_piano_freq(freqs, list(key2frequency.values()))\n",
    "    notes = [frequency2key[freq] for freq in formatted_freqs]\n",
    "    return notes\n",
    "\n",
    "def show_info(aname, a):\n",
    "    print( \"Array\", aname)\n",
    "    print( \"shape:\", a.shape)\n",
    "    print( \"dtype:\", a.dtype)\n",
    "    print( \"min, max:\", a.min(), a.max())\n",
    "\n",
    "def convert_signal_to_freqs(data, rate):\n",
    "    t = np.linspace(0, (len(data)-1)/rate, len(data))\n",
    "    song = (data[:, 1] + data[:,0])/2\n",
    "    \n",
    "    note_length = 0.198\n",
    "    window_size = note_length * rate\n",
    "    print(\"note length:%f\" %note_length)\n",
    "    num_windows = math.ceil(len(song)/window_size)\n",
    "    \n",
    "    ffts = []\n",
    "    bins = []\n",
    "    freq_lists = []\n",
    "    f = lambda x :np.linspace(-0.5*rate, 0.5*rate, x)\n",
    "    tx = lambda x :np.linspace(0, note_length, x)\n",
    "\n",
    "    i = 0\n",
    "    while i < len(t):\n",
    "        if i+window_size >= len(t):\n",
    "            curr_fft = np.fft.fft(song[i:])\n",
    "            curr_bin = song[i:]\n",
    "        else:\n",
    "            curr_fft = np.fft.fftshift(abs(np.fft.fft(song[i:i+window_size])))\n",
    "            curr_bin = song[i:i+window_size]\n",
    "        freqs = f(len(curr_fft))\n",
    "        highestMagIndices = np.where(curr_fft == max(curr_fft))\n",
    "        curr_freq = abs(freqs[highestMagIndices[0][0]])\n",
    "        freq_lists.append(curr_freq)\n",
    "        ffts.append(curr_fft)\n",
    "        bins.append(curr_bin)\n",
    "        i += window_size\n",
    "\n",
    "    filtered_list = [freq for freq in freq_lists if freq > 25 and freq < 4200]\n",
    "    print( len(filtered_list))\n",
    "    \n",
    "    assert num_windows == len(ffts)\n",
    "    index = 7\n",
    "    plt.figure()\n",
    "    plt.plot(f(len(ffts[index])), ffts[index])\n",
    "    plt.figure()\n",
    "    plt.plot(tx(len(bins[index])), bins[index])\n",
    "    return filtered_list\n",
    "\n",
    "def nearest_piano_freq(freqs, standard_freqs):\n",
    "    formatted_freqs = []\n",
    "    for freq in freqs:\n",
    "        check_list = [abs(f - freq) for f in standard_freqs]\n",
    "        min_index = check_list.index(min(check_list))\n",
    "        formatted_freqs.append(standard_freqs[min_index])\n",
    "    return formatted_freqs"
   ]
  },
  {
   "cell_type": "code",
   "execution_count": 13,
   "metadata": {
    "collapsed": false
   },
   "outputs": [
    {
     "name": "stdout",
     "output_type": "stream",
     "text": [
      "7744\n"
     ]
    },
    {
     "name": "stderr",
     "output_type": "stream",
     "text": [
      "/Users/Ujval/Documents/berkeley/ee126/venv/lib/python2.7/site-packages/ipykernel/__main__.py:24: RuntimeWarning: invalid value encountered in true_divide\n"
     ]
    }
   ],
   "source": [
    "def stochastic_matrix(*note_lists, **kwargs):\n",
    "    \"\"\"Calculates the stochastic matrix from all of the note lists\n",
    "    and for a Markov model of the given degree\"\"\"\n",
    "    \n",
    "    degree = kwargs['degree']\n",
    "    matrix = np.zeros((num_notes**degree, num_notes))\n",
    "    \n",
    "    for notes in note_lists:\n",
    "        print len(notes)\n",
    "        print len(note_lists)\n",
    "        for i in range(len(notes)):\n",
    "            curr_note_sequence = notes[i:i+degree]\n",
    "            # Calculate the index\n",
    "            curr_seq_index = notes2index(curr_note_sequence)\n",
    "            if i < len(notes)-degree:\n",
    "                # Get next note\n",
    "                next_note = notes[i+degree]\n",
    "                matrix[curr_seq_index][next_note] += 1\n",
    "      \n",
    "    return normalize(matrix)\n",
    "\n",
    "def normalize(matrix):\n",
    "    \"\"\"Normalizes matrix rows\"\"\"\n",
    "    \n",
    "    row_sums = matrix.sum(axis=1)\n",
    "    matrix = matrix / row_sums[:, np.newaxis]\n",
    "    return matrix\n",
    "    \n",
    "def notes2index(note_sequence):\n",
    "    \"\"\"Calculates the index of the stochastic matrix for the given sequence of notes,\n",
    "    generalized to n notes. Does this by mapping base-88 to base-10\"\"\"\n",
    "    return sum([note_sequence[i]*(88**i) for i in range(len(note_sequence)-1, -1, -1)])\n",
    "\n",
    "# notes = notes_from_wav(\"fur_elise.wav\")\n",
    "# notes = [1, 2, 3, 4, 1]\n",
    "# matrix = stochastic_matrix(notes, degree=1)\n",
    "notes = [47, 49, 49, 49, 49, 49, 49, 49]\n",
    "test = stochastic_matrix(notes, degree=2)\n",
    "print(len(test))"
   ]
  },
  {
   "cell_type": "code",
   "execution_count": 29,
   "metadata": {
    "collapsed": false
   },
   "outputs": [
    {
     "name": "stdout",
     "output_type": "stream",
     "text": [
      "[47 49 49 77 74 66 44 79 66 55 24 51 51 51 59 45 41 51 49 62 68 77 44 57 45\n",
      " 25 49 60 77 46 62 25 61 61 37 62 49 48 67 36 49 24 43 52 51 60 39 30 59 56\n",
      " 31 50 55 67 25 43 30 58 54 24 73 30 62 38 47 54 73 68 51 71 37 43 73 36 25\n",
      " 36 53 63 63 63 47 63 52 24 73 53 44 38 49 46 71 57 57 44 77 25 53 47 47 56\n",
      " 68 38 60 38 53 66 73 55 46 63 59 67 67 36 63 56 45 73 68 74 53 24 62 30 38\n",
      " 53 62 39 51 66 59 49 39 68 24 66 59 43 54 39 46 30 53 77 38 57 53 36 62 31\n",
      " 54 25 73 58 71 25 71 49 73 51 60 43 61 38 41 55 73 45 60 73 57 79 55 50 37\n",
      " 53 43 41 57 51 49 53 55 51 49 60 58 31 36 63 48 59 68 59 71 49 74 49 51 53\n",
      " 74 62 61 62 43 49 24 77 56 63 74 60 77 73 66 79 67 60 61 66 54 77 41 50 73\n",
      " 53 56 52 62 55 60 38 68 56 47 30 48 51 31 41 63 66 60 24 54 63 52 43 39 37\n",
      " 74 77 63 57 51 43 30 43 68 24 66 54 47 25 47 71 58 44 48 38 79 71 47 66 63\n",
      " 57 60 48 67 53 41 63 58 56 50 67 41 43 71 41 31 63 41 30 53 50 57 31 43 56\n",
      " 45 62 38 74 39 77 56 57 54 45 55 36 74 59 37 63 77 58 31 31 52 74 38 46 60\n",
      " 68 49 24 53 24 61 56 79 53 30 57 57 39 53 51 56 41 54 67 38 38 45 62 47 48\n",
      " 56 39 57 39 36 47 25 61 30 55 36 58 24 47 52 56 53 44 50 74 73 43 58 74 74\n",
      " 30 73 24 74 74 73 47 54 77 53 46 44 31 60 44 46 77 74 73 59 24 52 50 63 73\n",
      " 45 39 47 31 53 58 46 73 36 24 38 43 44 46 67 55 47 71 49 62 43 59 74 52 61\n",
      " 74 52 71 59 54 41 58 44 54 58 55 36 39 63 49 50 24 55 73 38 37 24 52 48 25\n",
      " 79 50 53 57 46 67 49 59 44 74 48 67 67 46 31 47 52 44 55 50 38 61 79 61 60\n",
      " 46 66 63 60 25 79 62 57 53 61 41 37 51 39 43 71 63 68 59 52 43 52 25 48 47\n",
      " 48 61 48 67 36 46 50 44 77 54 38 63 58 51 66 51 39 59 73 66 44 30 71 56 48\n",
      " 30 57 56 51 37 68 45 77 63 49 49 44 51 52 55 45 79 73 71 66 25 24 62 56 61\n",
      " 58 51 66 47 54 43 39 43 25 63 52 24 41 30 52 25 48 66 39 77 25 68 39 53 61\n",
      " 60 36 56 25 63 47 38 46 55 47 30 53 36 51 47 61 68 66 25 66 63 67 68 30 52\n",
      " 24 77 31 38 37 45 30 50 38 79 77 77 71 48 47 48 68 39 36 45 50 24 30 51 45\n",
      " 38 46 60 57 60 57 48 55 38 57 67 68 66 41 66 60 24 63 48 67 44 79 51 56 44\n",
      " 62 47 24 53 49 54 41 77 43 74 31 63 44 53 53 59 71 38 37 66 44 50 58 25 50\n",
      " 63 74 68 45 54 66 45 55 44 53 61 24 62 54 49 43 73 39 45 62 67 39 25 25 50\n",
      " 74 73 71 71 79 36 37 38 74 58 46 37 49 66 49 66 49 41 67 41 31 74 24 73 46\n",
      " 50 38 62 39 37 68 66 71 73 25 45 55 79 51 39 39 43 71 51 55 57 46 73 74 39\n",
      " 51 50 58 25 79 38 38 59 56 54 41 79 49 48 55 79 47 53 49 44 58 53 49 45 63\n",
      " 66 31 41 47 49 59 37 71 54 47 37 54 56 55 46 39 54 73 53 46 61 37 45 44 30\n",
      " 54 37 68 58 48 49 52 47 63 36 74 43 47 43 52 25 31 51 77 66 67 49 46 62 59\n",
      " 41 30 47 58 71 56 38 24 44 43 68 24 73 60 67 56 39 61 67 38 31 44 49 30 51\n",
      " 52 73 74]\n",
      "[55, 55, 54, 54, 55, 54, 55, 50, 53, 51, 51, 48, 43, 43, 39, 43, 48, 50, 50, 47, 47, 47, 47, 47, 51, 47, 36, 43, 55, 54, 55, 54, 55, 50, 53, 51, 51, 48, 43, 39, 39, 43, 43, 50, 43, 43, 43, 51, 50, 48, 48, 43, 43, 43, 55, 54, 55, 55, 55, 55, 53, 53, 51, 48, 48, 43, 39, 43, 43, 50, 50, 50, 43, 47, 47, 47, 47, 47, 36, 43, 55, 54, 55, 54, 55, 50, 53, 53, 48, 48, 48, 39, 39, 43, 43, 50, 50, 43, 43, 43, 50, 48, 48, 43, 43, 51, 51, 53, 55, 46, 39, 46, 56, 55, 55, 53, 53, 38, 44, 44, 53, 53, 43, 43, 43, 53, 53, 50, 50, 50, 43, 43, 55, 43, 55, 55, 55, 54, 55, 54, 54, 55, 54, 55, 55, 55, 55, 54, 55, 54, 55, 50, 53, 51, 48, 48, 43, 39, 39, 43, 50, 50, 43, 43, 43, 47, 47, 47, 47, 36, 43, 55, 54, 54, 54, 54, 55, 50, 53, 51, 48, 43, 43, 39, 43, 43, 50, 50, 43, 43, 43, 51, 50, 48, 43, 43, 50, 51, 53, 55, 55, 39, 39, 56, 55, 55, 53, 53, 38, 44, 44, 53, 51, 43, 43, 43, 53, 53, 50, 50, 43, 43, 55, 43, 55, 55, 55, 55, 54, 55, 54, 55, 55, 54, 55, 54, 55, 54, 55, 54, 55, 55, 50, 51, 51, 48, 43, 43, 39, 43, 48, 50, 50, 43, 47, 47, 47, 47, 51, 43, 43, 43, 55, 54, 55, 54, 55, 50, 53, 51, 51, 48, 43, 43, 39, 39, 48, 50, 43, 43, 43, 43, 43, 50, 48, 43, 43, 43, 36, 51, 44, 51, 51, 44, 51, 51, 51, 39, 56, 55, 55, 55, 37, 53, 37, 41, 41, 60, 58, 58, 56, 55, 53, 51, 49, 49, 36, 39, 49, 49, 49, 51, 51, 39, 39, 39, 53, 54, 55, 36, 39, 55, 41, 41, 51, 51, 43, 43, 43, 53, 44, 51, 58, 58, 44, 58, 41, 55, 58, 62, 58, 55, 58, 53, 39, 58, 58, 58, 58, 41, 55, 58, 62, 58, 55, 58, 53, 55, 55, 55, 55, 55, 55, 54, 55, 55, 55, 55, 50, 55, 55, 54, 55, 55, 55, 55, 55, 55, 50, 55, 55, 54, 54, 55, 54, 55, 55, 54, 55, 54, 55, 54, 55, 55, 50, 53, 51, 43, 43, 43, 39, 43, 43, 50, 50, 50, 43, 47, 47, 47, 51, 43, 43, 43, 55, 54, 55, 54, 55, 50, 53, 51, 48, 48, 43, 39, 39, 48, 50, 50, 43, 43, 43, 51, 50, 48, 43, 43, 50, 51, 53, 55, 55, 39, 39, 46, 56, 55, 53, 53, 38, 44, 44, 44, 53, 51, 43, 43, 43, 53, 51, 50, 50, 43, 43, 55, 55, 43, 55, 55, 55, 54, 54, 55, 54, 55, 55, 54, 55, 54, 55, 54, 55, 54, 55, 55, 53, 51, 51, 48, 43, 43, 39, 43, 48, 50, 50, 50, 43, 47, 47, 47, 47, 43, 43, 43, 55, 54, 55, 54, 55, 50, 53, 51, 51, 48, 43, 43, 39, 43, 43, 50, 50, 47, 43, 51, 50, 50, 48, 43, 48, 43, 52, 52, 43, 52, 49, 49, 43, 55, 36, 43, 53, 53, 44, 44, 55, 55, 56, 53, 47, 47, 47, 43, 47, 47, 47, 55, 55, 55, 55, 36, 55, 53, 53, 44, 44, 52, 51, 41, 41, 45, 45, 45, 46, 46, 39, 48, 39, 51, 51, 51, 41, 41, 50, 39, 39, 43, 43, 52, 24, 24, 49, 49, 25, 25, 43, 43, 53, 53, 53, 44, 25, 55, 55, 53, 53, 53, 43, 48, 56, 53, 55, 53, 53, 37, 37, 37, 37, 37, 54, 54, 37, 37, 37, 37, 51, 49, 49, 37, 37, 37, 44, 44, 47, 47, 47, 47, 47, 47, 47, 47, 47, 43, 43, 39, 39, 39, 39, 39, 50, 41, 50, 50, 50, 50, 31, 30, 50, 36, 39, 43, 55, 53, 50, 43, 55, 63, 39, 62, 60, 67, 79, 77, 74, 73, 43, 71, 68, 66, 66, 63, 62, 61, 59, 58, 57, 57, 55, 55, 54, 55, 50, 53, 51, 51, 48, 43, 43, 39, 43, 43, 50, 43, 43, 43, 47, 47, 47, 47, 36, 43, 43, 55, 54, 55, 54, 55, 50, 53, 51, 48, 48, 43, 39, 39, 48, 50, 50, 50, 43, 43, 51, 50, 48, 48, 43, 43, 51, 53, 55, 55, 53, 39, 46, 56, 55, 53, 53, 38, 44, 44, 44, 53, 51, 43, 43, 43, 53, 51, 50, 50, 50, 43, 43, 55, 43, 55, 55, 55, 54, 55, 55, 54, 55, 54, 54, 54, 54, 54, 54, 55, 54, 55, 50, 53, 51, 48, 48, 48, 36, 39, 39, 48, 50, 43, 47, 47, 47, 47, 47, 47, 43, 43, 55, 55, 54, 55, 54, 55, 50, 53, 51, 48, 48, 36, 39, 39, 43, 39, 50, 43, 43, 41, 41, 41, 51, 51, 50, 50, 50, 39, 39, 43, 43, 43, 43, 36, 36, 36, 36, 36]\n"
     ]
    },
    {
     "name": "stderr",
     "output_type": "stream",
     "text": [
      "/Users/Ujval/Documents/berkeley/ee126/venv/lib/python2.7/site-packages/ipykernel/__main__.py:16: DeprecationWarning: using a non-integer number instead of an integer will result in an error in the future\n"
     ]
    },
    {
     "data": {
      "text/html": [
       "\n",
       "    <head>\n",
       "    <meta http-equiv=\"Content-Type\" content=\"text/html; charset=utf-8\">\n",
       "    <title>Simple Test</title>\n",
       "    </head>\n",
       "    <body>\n",
       "    <audio controls=\"controls\" style=\"width:600px\" >\n",
       "      <source src=\"files/a.wav\" type=\"audio/wav\" />\n",
       "      Your browser does not support the audio element.\n",
       "    </audio>\n",
       "    </body>\n",
       "    "
      ],
      "text/plain": [
       "<IPython.core.display.HTML object>"
      ]
     },
     "metadata": {},
     "output_type": "display_data"
    },
    {
     "data": {
      "text/html": [
       "\n",
       "    <head>\n",
       "    <meta http-equiv=\"Content-Type\" content=\"text/html; charset=utf-8\">\n",
       "    <title>Simple Test</title>\n",
       "    </head>\n",
       "    <body>\n",
       "    <audio controls=\"controls\" style=\"width:600px\" >\n",
       "      <source src=\"files/b.wav\" type=\"audio/wav\" />\n",
       "      Your browser does not support the audio element.\n",
       "    </audio>\n",
       "    </body>\n",
       "    "
      ],
      "text/plain": [
       "<IPython.core.display.HTML object>"
      ]
     },
     "metadata": {},
     "output_type": "display_data"
    }
   ],
   "source": [
    "def random_walk(stoch_matrix, size, notes, initial_note=440, degree=1):\n",
    "    \n",
    "    # You can use the degree passed in to group notes\n",
    "    # You can look up the value in the stochastic matrix by calling notes2index on a list of notes\n",
    "    # For example: notes2index([46 47]) will give you the index of that element in the stochastic matrix\n",
    "    converted_note = notes2index(initial_note)\n",
    "    distribution = stoch_matrix[converted_note]\n",
    "    result = np.array([initial_note])\n",
    "    upper_bound = len(stoch_matrix)\n",
    "    for i in range(1, size):\n",
    "        x = np.sum(distribution)\n",
    "        if np.isnan(x):\n",
    "            next_val = np.random.choice(np.arange(0,len(stoch_matrix[0])))\n",
    "            while next_val not in notes:\n",
    "                next_val = np.random.choice(np.arange(0,len(stoch_matrix[0])))\n",
    "            result = np.append(result, next_val)\n",
    "            distribution = stoch_matrix[next_val]\n",
    "        else:\n",
    "            next_val = np.random.choice(np.arange(0,len(stoch_matrix[0])), 1, p = distribution)\n",
    "            result = np.append(result, next_val)\n",
    "            distribution = stoch_matrix[next_val[0]]\n",
    "    return result\n",
    "\n",
    "generated_song_notes = random_walk(test, len(notes), notes, initial_note=[47,49], degree=2)\n",
    "print(generated_song_notes)\n",
    "print(notes)\n",
    "playMusic(\"a\", rate, song_from_notes(generated_song_notes, 0.2))\n",
    "playMusic(\"b\", rate, song_from_notes(notes, 0.2))"
   ]
  },
  {
   "cell_type": "markdown",
   "metadata": {},
   "source": [
    "**MAIN**\n",
    "\n",
    "Putting everything together"
   ]
  },
  {
   "cell_type": "code",
   "execution_count": 15,
   "metadata": {
    "collapsed": false
   },
   "outputs": [
    {
     "name": "stdout",
     "output_type": "stream",
     "text": [
      "('Array', 'fur_elise.wav')\n",
      "('shape:', (7713792, 2))\n",
      "('dtype:', dtype('int16'))\n",
      "('min, max:', -20017, 17591)\n",
      "note length:0.197415"
     ]
    },
    {
     "name": "stderr",
     "output_type": "stream",
     "text": [
      "/Users/Ujval/Documents/berkeley/ee126/venv/lib/python2.7/site-packages/ipykernel/__main__.py:37: DeprecationWarning: using a non-integer number instead of an integer will result in an error in the future\n",
      "/Users/Ujval/Documents/berkeley/ee126/venv/lib/python2.7/site-packages/ipykernel/__main__.py:38: DeprecationWarning: using a non-integer number instead of an integer will result in an error in the future\n"
     ]
    },
    {
     "name": "stdout",
     "output_type": "stream",
     "text": [
      "\n",
      "852"
     ]
    },
    {
     "name": "stderr",
     "output_type": "stream",
     "text": [
      "/Users/Ujval/Documents/berkeley/ee126/venv/lib/python2.7/site-packages/ipykernel/__main__.py:34: DeprecationWarning: using a non-integer number instead of an integer will result in an error in the future\n",
      "/Users/Ujval/Documents/berkeley/ee126/venv/lib/python2.7/site-packages/ipykernel/__main__.py:35: DeprecationWarning: using a non-integer number instead of an integer will result in an error in the future\n",
      "/Users/Ujval/Documents/berkeley/ee126/venv/lib/python2.7/site-packages/ipykernel/__main__.py:24: RuntimeWarning: invalid value encountered in true_divide\n"
     ]
    },
    {
     "name": "stdout",
     "output_type": "stream",
     "text": [
      "\n"
     ]
    },
    {
     "data": {
      "image/png": "iVBORw0KGgoAAAANSUhEUgAAAZsAAAEACAYAAABlOdt4AAAABHNCSVQICAgIfAhkiAAAAAlwSFlz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\nYII=\n",
      "text/plain": [
       "<matplotlib.figure.Figure at 0x107b1a490>"
      ]
     },
     "metadata": {},
     "output_type": "display_data"
    },
    {
     "data": {
      "image/png": "iVBORw0KGgoAAAANSUhEUgAAAYsAAAEACAYAAABCl1qQAAAABHNCSVQICAgIfAhkiAAAAAlwSFlz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\nIwsnC4fD4XBk4WThcDgcjiz+P28MM7SGCpzyAAAAAElFTkSuQmCC\n",
      "text/plain": [
       "<matplotlib.figure.Figure at 0x106b3cf50>"
      ]
     },
     "metadata": {},
     "output_type": "display_data"
    }
   ],
   "source": [
    "# Get notes from wav\n",
    "notes = notes_from_wav(\"minuet_in_g_major.wav\")\n",
    "wav_list = [\"fur_elise.wav\", \"symphony_in_am.wav\", \"air_on_the_g_string.wav\"]\n",
    "#notes_list = [notes_from_wav(wav) for wav in wav_list]\n",
    "\n",
    "notes1 = notes_from_wav(wav_list[0])\n",
    "notes2 = notes_from_wav(wav_list[1])\n",
    "notes3 = notes_from_wav(wav_list[2])\n"
   ]
  },
  {
   "cell_type": "code",
   "execution_count": null,
   "metadata": {
    "collapsed": false
   },
   "outputs": [],
   "source": [
    "# Calculate stochastic matrix\n",
    "matrix = stochastic_matrix(notes, notes1, notes2, notes3, degree=2)"
   ]
  },
  {
   "cell_type": "code",
   "execution_count": 28,
   "metadata": {
    "collapsed": false
   },
   "outputs": [
    {
     "name": "stderr",
     "output_type": "stream",
     "text": [
      "/Users/Ujval/Documents/berkeley/ee126/venv/lib/python2.7/site-packages/ipykernel/__main__.py:16: DeprecationWarning: using a non-integer number instead of an integer will result in an error in the future\n"
     ]
    },
    {
     "data": {
      "text/html": [
       "\n",
       "    <head>\n",
       "    <meta http-equiv=\"Content-Type\" content=\"text/html; charset=utf-8\">\n",
       "    <title>Simple Test</title>\n",
       "    </head>\n",
       "    <body>\n",
       "    <audio controls=\"controls\" style=\"width:600px\" >\n",
       "      <source src=\"files/de.wav\" type=\"audio/wav\" />\n",
       "      Your browser does not support the audio element.\n",
       "    </audio>\n",
       "    </body>\n",
       "    "
      ],
      "text/plain": [
       "<IPython.core.display.HTML object>"
      ]
     },
     "metadata": {},
     "output_type": "display_data"
    },
    {
     "name": "stdout",
     "output_type": "stream",
     "text": [
      "[55 55 55 31 53 43 24 67 53 58]\n"
     ]
    }
   ],
   "source": [
    "# Create a random walk of notes, starting from a particular note\n",
    "generated_song_notes = random_walk(matrix, len(notes), notes, initial_note=[notes[0], notes[1]], degree=2)\n",
    "\n",
    "\n",
    "# play song notes!\n",
    "playMusic(\"orig\", rate, song_from_notes(notes, 0.2))\n",
    "playMusic(\"generated\", rate, song_from_notes(generated_song_notes, 0.2))\n",
   ]
  },
  {
   "cell_type": "code",
   "execution_count": null,
   "metadata": {
    "collapsed": false
   },
   "outputs": [],
   "source": [
    "song = song_from_notes(notes, 0.2)\n",
    "gen_song = song_from_notes(generated_song_notes, 0.2)\n",
    "song_t = np.linspace(0, (len(song)-1)/rate, len(song))\n",
    "gen_song_t = np.linspace(0, (len(gen_song)-1)/rate, len(gen_song))\n",
    "\n",
    "plt.figure()\n",
    "plt.plot(song_t, song)\n",
    "plt.plot(gen_song_t, gen_song)"
   ]
  },
  {
   "cell_type": "code",
   "execution_count": null,
   "metadata": {
    "collapsed": true
   },
   "outputs": [],
   "source": []
  }
 ],
 "metadata": {
  "kernelspec": {
   "display_name": "Python 2",
   "language": "python",
   "name": "python2"
  },
  "language_info": {
   "codemirror_mode": {
    "name": "ipython",
    "version": 2
   },
   "file_extension": ".py",
   "mimetype": "text/x-python",
   "name": "python",
   "nbconvert_exporter": "python",
   "pygments_lexer": "ipython2",
   "version": "2.7.6"
  }
 },
 "nbformat": 4,
 "nbformat_minor": 0
}
